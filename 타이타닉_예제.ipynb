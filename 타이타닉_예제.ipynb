{
  "nbformat": 4,
  "nbformat_minor": 0,
  "metadata": {
    "colab": {
      "name": "타이타닉 예제.ipynb",
      "version": "0.3.2",
      "provenance": [],
      "collapsed_sections": [],
      "include_colab_link": true
    },
    "kernelspec": {
      "display_name": "Python 3",
      "language": "python",
      "name": "python3"
    },
    "accelerator": "GPU"
  },
  "cells": [
    {
      "cell_type": "markdown",
      "metadata": {
        "id": "view-in-github",
        "colab_type": "text"
      },
      "source": [
        "<a href=\"https://colab.research.google.com/github/songgeunil/pfx_parser/blob/master/%ED%83%80%EC%9D%B4%ED%83%80%EB%8B%89_%EC%98%88%EC%A0%9C.ipynb\" target=\"_parent\"><img src=\"https://colab.research.google.com/assets/colab-badge.svg\" alt=\"Open In Colab\"/></a>"
      ]
    },
    {
      "metadata": {
        "colab_type": "text",
        "id": "6tFWwG3-eWA3"
      },
      "cell_type": "markdown",
      "source": [
        "# 타이타닉 예제로 실습하기"
      ]
    },
    {
      "metadata": {
        "colab_type": "text",
        "id": "se4RoCNugMNm"
      },
      "cell_type": "markdown",
      "source": [
        "<h2>1. 디렉토리 지정</h2>"
      ]
    },
    {
      "metadata": {
        "id": "KC3iPay76FG-",
        "colab_type": "code",
        "colab": {}
      },
      "cell_type": "code",
      "source": [
        "import pandas as pd\n",
        "import warnings\n",
        "import os\n",
        "import matplotlib.pyplot as plt\n",
        "import numpy as np\n",
        "import seaborn as sns\n",
        "plt.style.use('fivethirtyeight')\n",
        "pd.options.display.max_rows = 10\n",
        "pd.set_option('display.max_columns', 100)\n",
        "pd.set_option('float_format', '{:.2f}'.format)\n",
        "warnings.filterwarnings(\"ignore\")"
      ],
      "execution_count": 0,
      "outputs": []
    },
    {
      "metadata": {
        "colab_type": "code",
        "id": "xv5zfqbwEZTR",
        "outputId": "a9a935d8-a3fc-4ad6-e6d1-e0447fbc0bb2",
        "colab": {
          "base_uri": "https://localhost:8080/",
          "height": 36
        }
      },
      "cell_type": "code",
      "source": [
        "from google.colab import drive\n",
        "drive.mount('/content/gdrive')"
      ],
      "execution_count": 22,
      "outputs": [
        {
          "output_type": "stream",
          "text": [
            "Drive already mounted at /content/gdrive; to attempt to forcibly remount, call drive.mount(\"/content/gdrive\", force_remount=True).\n"
          ],
          "name": "stdout"
        }
      ]
    },
    {
      "metadata": {
        "id": "8VqAUq1X-P63",
        "colab_type": "text"
      },
      "cell_type": "markdown",
      "source": [
        "<h2>2. 데이터 불러오기</h2>"
      ]
    },
    {
      "metadata": {
        "id": "uDp9-QPp55GY",
        "colab_type": "code",
        "colab": {}
      },
      "cell_type": "code",
      "source": [
        "#content 안에 gdrive 안에 My Drive 안에 타이타닉 안에 있는 train.csv를 불러온다.\n",
        "train=pd.read_csv('/content/gdrive/My Drive/타이타닉/train.csv')"
      ],
      "execution_count": 0,
      "outputs": []
    },
    {
      "metadata": {
        "id": "KvXFidLN-waV",
        "colab_type": "text"
      },
      "cell_type": "markdown",
      "source": [
        "<h2>3. 데이터 형태 관찰</h2>"
      ]
    },
    {
      "metadata": {
        "id": "5335rtWn-1dg",
        "colab_type": "code",
        "colab": {
          "base_uri": "https://localhost:8080/",
          "height": 36
        },
        "outputId": "109f00b4-2713-4ad5-b003-10cfff7ec6c8"
      },
      "cell_type": "code",
      "source": [
        "train.shape\n",
        "#데이터는 891개의 행과, 12개의 열로 이루어져 있다."
      ],
      "execution_count": 28,
      "outputs": [
        {
          "output_type": "execute_result",
          "data": {
            "text/plain": [
              "(891, 12)"
            ]
          },
          "metadata": {
            "tags": []
          },
          "execution_count": 28
        }
      ]
    },
    {
      "metadata": {
        "id": "0yytLhGU-Le7",
        "colab_type": "code",
        "colab": {
          "base_uri": "https://localhost:8080/",
          "height": 202
        },
        "outputId": "208ee8a1-ec73-43be-ec84-b6765d015c46"
      },
      "cell_type": "code",
      "source": [
        "train.head()\n",
        "#train 데이터의 상위 5개의 row만 보여준다"
      ],
      "execution_count": 24,
      "outputs": [
        {
          "output_type": "execute_result",
          "data": {
            "text/html": [
              "<div>\n",
              "<style scoped>\n",
              "    .dataframe tbody tr th:only-of-type {\n",
              "        vertical-align: middle;\n",
              "    }\n",
              "\n",
              "    .dataframe tbody tr th {\n",
              "        vertical-align: top;\n",
              "    }\n",
              "\n",
              "    .dataframe thead th {\n",
              "        text-align: right;\n",
              "    }\n",
              "</style>\n",
              "<table border=\"1\" class=\"dataframe\">\n",
              "  <thead>\n",
              "    <tr style=\"text-align: right;\">\n",
              "      <th></th>\n",
              "      <th>PassengerId</th>\n",
              "      <th>Survived</th>\n",
              "      <th>Pclass</th>\n",
              "      <th>Name</th>\n",
              "      <th>Sex</th>\n",
              "      <th>Age</th>\n",
              "      <th>SibSp</th>\n",
              "      <th>Parch</th>\n",
              "      <th>Ticket</th>\n",
              "      <th>Fare</th>\n",
              "      <th>Cabin</th>\n",
              "      <th>Embarked</th>\n",
              "    </tr>\n",
              "  </thead>\n",
              "  <tbody>\n",
              "    <tr>\n",
              "      <th>0</th>\n",
              "      <td>1</td>\n",
              "      <td>0</td>\n",
              "      <td>3</td>\n",
              "      <td>Braund, Mr. Owen Harris</td>\n",
              "      <td>male</td>\n",
              "      <td>22.00</td>\n",
              "      <td>1</td>\n",
              "      <td>0</td>\n",
              "      <td>A/5 21171</td>\n",
              "      <td>7.25</td>\n",
              "      <td>NaN</td>\n",
              "      <td>S</td>\n",
              "    </tr>\n",
              "    <tr>\n",
              "      <th>1</th>\n",
              "      <td>2</td>\n",
              "      <td>1</td>\n",
              "      <td>1</td>\n",
              "      <td>Cumings, Mrs. John Bradley (Florence Briggs Th...</td>\n",
              "      <td>female</td>\n",
              "      <td>38.00</td>\n",
              "      <td>1</td>\n",
              "      <td>0</td>\n",
              "      <td>PC 17599</td>\n",
              "      <td>71.28</td>\n",
              "      <td>C85</td>\n",
              "      <td>C</td>\n",
              "    </tr>\n",
              "    <tr>\n",
              "      <th>2</th>\n",
              "      <td>3</td>\n",
              "      <td>1</td>\n",
              "      <td>3</td>\n",
              "      <td>Heikkinen, Miss. Laina</td>\n",
              "      <td>female</td>\n",
              "      <td>26.00</td>\n",
              "      <td>0</td>\n",
              "      <td>0</td>\n",
              "      <td>STON/O2. 3101282</td>\n",
              "      <td>7.92</td>\n",
              "      <td>NaN</td>\n",
              "      <td>S</td>\n",
              "    </tr>\n",
              "    <tr>\n",
              "      <th>3</th>\n",
              "      <td>4</td>\n",
              "      <td>1</td>\n",
              "      <td>1</td>\n",
              "      <td>Futrelle, Mrs. Jacques Heath (Lily May Peel)</td>\n",
              "      <td>female</td>\n",
              "      <td>35.00</td>\n",
              "      <td>1</td>\n",
              "      <td>0</td>\n",
              "      <td>113803</td>\n",
              "      <td>53.10</td>\n",
              "      <td>C123</td>\n",
              "      <td>S</td>\n",
              "    </tr>\n",
              "    <tr>\n",
              "      <th>4</th>\n",
              "      <td>5</td>\n",
              "      <td>0</td>\n",
              "      <td>3</td>\n",
              "      <td>Allen, Mr. William Henry</td>\n",
              "      <td>male</td>\n",
              "      <td>35.00</td>\n",
              "      <td>0</td>\n",
              "      <td>0</td>\n",
              "      <td>373450</td>\n",
              "      <td>8.05</td>\n",
              "      <td>NaN</td>\n",
              "      <td>S</td>\n",
              "    </tr>\n",
              "  </tbody>\n",
              "</table>\n",
              "</div>"
            ],
            "text/plain": [
              "   PassengerId  Survived  Pclass  \\\n",
              "0            1         0       3   \n",
              "1            2         1       1   \n",
              "2            3         1       3   \n",
              "3            4         1       1   \n",
              "4            5         0       3   \n",
              "\n",
              "                                                Name     Sex   Age  SibSp  \\\n",
              "0                            Braund, Mr. Owen Harris    male 22.00      1   \n",
              "1  Cumings, Mrs. John Bradley (Florence Briggs Th...  female 38.00      1   \n",
              "2                             Heikkinen, Miss. Laina  female 26.00      0   \n",
              "3       Futrelle, Mrs. Jacques Heath (Lily May Peel)  female 35.00      1   \n",
              "4                           Allen, Mr. William Henry    male 35.00      0   \n",
              "\n",
              "   Parch            Ticket  Fare Cabin Embarked  \n",
              "0      0         A/5 21171  7.25   NaN        S  \n",
              "1      0          PC 17599 71.28   C85        C  \n",
              "2      0  STON/O2. 3101282  7.92   NaN        S  \n",
              "3      0            113803 53.10  C123        S  \n",
              "4      0            373450  8.05   NaN        S  "
            ]
          },
          "metadata": {
            "tags": []
          },
          "execution_count": 24
        }
      ]
    },
    {
      "metadata": {
        "id": "aiFFGo9M_vgJ",
        "colab_type": "text"
      },
      "cell_type": "markdown",
      "source": [
        "<h2>4. Survived 관찰</h2>"
      ]
    },
    {
      "metadata": {
        "id": "4hpQW82L_2X1",
        "colab_type": "code",
        "colab": {
          "base_uri": "https://localhost:8080/",
          "height": 241
        },
        "outputId": "ad1ca71f-3ad6-4e4e-aa5d-fdad0b83af53"
      },
      "cell_type": "code",
      "source": [
        "train['Survived']"
      ],
      "execution_count": 29,
      "outputs": [
        {
          "output_type": "execute_result",
          "data": {
            "text/plain": [
              "0      0\n",
              "1      1\n",
              "2      1\n",
              "3      1\n",
              "4      0\n",
              "      ..\n",
              "886    0\n",
              "887    1\n",
              "888    0\n",
              "889    1\n",
              "890    0\n",
              "Name: Survived, Length: 891, dtype: int64"
            ]
          },
          "metadata": {
            "tags": []
          },
          "execution_count": 29
        }
      ]
    },
    {
      "metadata": {
        "id": "YJ7fdG6k_78b",
        "colab_type": "code",
        "colab": {
          "base_uri": "https://localhost:8080/",
          "height": 407
        },
        "outputId": "511eab8b-a6a0-4144-85b2-af593351a0a7"
      },
      "cell_type": "code",
      "source": [
        "sns.countplot('Survived',data=train)\n",
        "#죽은 사람이 생존자보다 많다는 정보를 알 수 있다."
      ],
      "execution_count": 35,
      "outputs": [
        {
          "output_type": "execute_result",
          "data": {
            "text/plain": [
              "<matplotlib.axes._subplots.AxesSubplot at 0x7fee3790e4a8>"
            ]
          },
          "metadata": {
            "tags": []
          },
          "execution_count": 35
        },
        {
          "output_type": "display_data",
          "data": {
            "image/png": "[encoded data removed]",
            "text/plain": [
              "<Figure size 576x396 with 1 Axes>"
            ]
          },
          "metadata": {
            "tags": []
          }
        }
      ]
    },
    {
      "metadata": {
        "id": "TjDHyBmuBKdr",
        "colab_type": "code",
        "colab": {
          "base_uri": "https://localhost:8080/",
          "height": 36
        },
        "outputId": "29f31eaf-bf11-478e-fce9-9fb44ea2efa8"
      },
      "cell_type": "code",
      "source": [
        "train['Survived'].mean()"
      ],
      "execution_count": 36,
      "outputs": [
        {
          "output_type": "execute_result",
          "data": {
            "text/plain": [
              "0.3838383838383838"
            ]
          },
          "metadata": {
            "tags": []
          },
          "execution_count": 36
        }
      ]
    },
    {
      "metadata": {
        "id": "pbjZfRe3AvoB",
        "colab_type": "text"
      },
      "cell_type": "markdown",
      "source": [
        "891명 중에서 38% 정도만 살아남았다.\n",
        "\n"
      ]
    },
    {
      "metadata": {
        "id": "zyK57br8A_g5",
        "colab_type": "text"
      },
      "cell_type": "markdown",
      "source": [
        "<h2>5. 성별에 따른 Survived 관찰</h2>"
      ]
    },
    {
      "metadata": {
        "id": "BQb5ObLoGWBn",
        "colab_type": "code",
        "colab": {
          "base_uri": "https://localhost:8080/",
          "height": 73
        },
        "outputId": "6498a41e-0c7c-4195-f22e-1bde85e33716"
      },
      "cell_type": "code",
      "source": [
        "train['Sex'].value_counts()"
      ],
      "execution_count": 53,
      "outputs": [
        {
          "output_type": "execute_result",
          "data": {
            "text/plain": [
              "male      577\n",
              "female    314\n",
              "Name: Sex, dtype: int64"
            ]
          },
          "metadata": {
            "tags": []
          },
          "execution_count": 53
        }
      ]
    },
    {
      "metadata": {
        "id": "4W0gBw6FAsTx",
        "colab_type": "code",
        "colab": {
          "base_uri": "https://localhost:8080/",
          "height": 129
        },
        "outputId": "f903552e-1233-40cb-8a59-cf5e89c88872"
      },
      "cell_type": "code",
      "source": [
        "train.groupby(['Sex','Survived'])['Survived'].count()"
      ],
      "execution_count": 39,
      "outputs": [
        {
          "output_type": "execute_result",
          "data": {
            "text/plain": [
              "Sex     Survived\n",
              "female  0            81\n",
              "        1           233\n",
              "male    0           468\n",
              "        1           109\n",
              "Name: Survived, dtype: int64"
            ]
          },
          "metadata": {
            "tags": []
          },
          "execution_count": 39
        }
      ]
    },
    {
      "metadata": {
        "id": "dhFhlERlBeRI",
        "colab_type": "text"
      },
      "cell_type": "markdown",
      "source": [
        "여자가 남자보다 훨씬 더 생존률이 높다는 것을 알 수 있다"
      ]
    },
    {
      "metadata": {
        "id": "JqbSdNL6_Tw-",
        "colab_type": "code",
        "colab": {
          "base_uri": "https://localhost:8080/",
          "height": 455
        },
        "outputId": "6dcf86e2-3991-4b10-e4c2-3dd99188a49e"
      },
      "cell_type": "code",
      "source": [
        "train[['Sex','Survived']].groupby(['Sex']).mean().plot.bar()\n",
        "plt.title('Survival Rate by Sex')"
      ],
      "execution_count": 46,
      "outputs": [
        {
          "output_type": "execute_result",
          "data": {
            "text/plain": [
              "Text(0.5, 1.0, 'Survival Rate by Sex')"
            ]
          },
          "metadata": {
            "tags": []
          },
          "execution_count": 46
        },
        {
          "output_type": "display_data",
          "data": {
            "image/png": "[encoded data removed]",
            "text/plain": [
              "<Figure size 576x396 with 1 Axes>"
            ]
          },
          "metadata": {
            "tags": []
          }
        }
      ]
    },
    {
      "metadata": {
        "id": "lkJu83CcCVj7",
        "colab_type": "text"
      },
      "cell_type": "markdown",
      "source": [
        "<h2>6. pclass에 따른 생존률</h2>"
      ]
    },
    {
      "metadata": {
        "id": "EbQftZOXGaqb",
        "colab_type": "code",
        "colab": {
          "base_uri": "https://localhost:8080/",
          "height": 92
        },
        "outputId": "cd4f96cd-9b88-44e6-aa04-d272139226cf"
      },
      "cell_type": "code",
      "source": [
        "train['Pclass'].value_counts()"
      ],
      "execution_count": 54,
      "outputs": [
        {
          "output_type": "execute_result",
          "data": {
            "text/plain": [
              "3    491\n",
              "1    216\n",
              "2    184\n",
              "Name: Pclass, dtype: int64"
            ]
          },
          "metadata": {
            "tags": []
          },
          "execution_count": 54
        }
      ]
    },
    {
      "metadata": {
        "id": "QfXmLGtmBwPl",
        "colab_type": "code",
        "colab": {
          "base_uri": "https://localhost:8080/",
          "height": 111
        },
        "outputId": "93e965f8-ec09-4626-fbf6-004cfbd40c50"
      },
      "cell_type": "code",
      "source": [
        "train.groupby(['Pclass'])['Survived'].mean()"
      ],
      "execution_count": 47,
      "outputs": [
        {
          "output_type": "execute_result",
          "data": {
            "text/plain": [
              "Pclass\n",
              "1   0.63\n",
              "2   0.47\n",
              "3   0.24\n",
              "Name: Survived, dtype: float64"
            ]
          },
          "metadata": {
            "tags": []
          },
          "execution_count": 47
        }
      ]
    },
    {
      "metadata": {
        "id": "AHCKCubJCkcf",
        "colab_type": "code",
        "colab": {
          "base_uri": "https://localhost:8080/",
          "height": 427
        },
        "outputId": "e6e4ab00-5665-4893-a32a-b075dd2c276c"
      },
      "cell_type": "code",
      "source": [
        "train[['Pclass','Survived']].groupby(['Pclass']).mean().plot.bar()\n",
        "plt.title('Survival Rate by Pclass')"
      ],
      "execution_count": 48,
      "outputs": [
        {
          "output_type": "execute_result",
          "data": {
            "text/plain": [
              "Text(0.5, 1.0, 'Survival Rate by Pclass')"
            ]
          },
          "metadata": {
            "tags": []
          },
          "execution_count": 48
        },
        {
          "output_type": "display_data",
          "data": {
            "image/png": "[encoded data removed]",
            "text/plain": [
              "<Figure size 576x396 with 1 Axes>"
            ]
          },
          "metadata": {
            "tags": []
          }
        }
      ]
    },
    {
      "metadata": {
        "id": "87L0wKwsC_iE",
        "colab_type": "text"
      },
      "cell_type": "markdown",
      "source": [
        "<h2>7. 나이에 따른 생존률</h2>"
      ]
    },
    {
      "metadata": {
        "id": "D9k_lC1aGecI",
        "colab_type": "code",
        "colab": {
          "base_uri": "https://localhost:8080/",
          "height": 185
        },
        "outputId": "f14b09eb-62e7-4520-a0bc-af16fbc98ec9"
      },
      "cell_type": "code",
      "source": [
        "train['Age'].describe()"
      ],
      "execution_count": 55,
      "outputs": [
        {
          "output_type": "execute_result",
          "data": {
            "text/plain": [
              "count   714.00\n",
              "mean     29.70\n",
              "std      14.53\n",
              "min       0.42\n",
              "25%      20.12\n",
              "50%      28.00\n",
              "75%      38.00\n",
              "max      80.00\n",
              "Name: Age, dtype: float64"
            ]
          },
          "metadata": {
            "tags": []
          },
          "execution_count": 55
        }
      ]
    },
    {
      "metadata": {
        "id": "8l8wGE0oD8Z7",
        "colab_type": "code",
        "colab": {
          "base_uri": "https://localhost:8080/",
          "height": 388
        },
        "outputId": "59bf1a01-b1c0-416e-e650-4ecfd6114eff"
      },
      "cell_type": "code",
      "source": [
        "sns.kdeplot(train.loc[train['Survived']==1,'Age'],label='survived')\n",
        "sns.kdeplot(train.loc[train['Survived']==0,'Age'],label='died')"
      ],
      "execution_count": 52,
      "outputs": [
        {
          "output_type": "execute_result",
          "data": {
            "text/plain": [
              "<matplotlib.axes._subplots.AxesSubplot at 0x7fee374893c8>"
            ]
          },
          "metadata": {
            "tags": []
          },
          "execution_count": 52
        },
        {
          "output_type": "display_data",
          "data": {
            "image/png": "[encoded data removed]",
            "text/plain": [
              "<Figure size 576x396 with 1 Axes>"
            ]
          },
          "metadata": {
            "tags": []
          }
        }
      ]
    },
    {
      "metadata": {
        "id": "wcgP-YXXE7P-",
        "colab_type": "text"
      },
      "cell_type": "markdown",
      "source": [
        "<h2>8. SibSp에 따른 생존률</h2>"
      ]
    },
    {
      "metadata": {
        "id": "DNHWCfn5D8OM",
        "colab_type": "code",
        "colab": {
          "base_uri": "https://localhost:8080/",
          "height": 185
        },
        "outputId": "793726a2-c3f1-400a-d0a1-e3f9010f845d"
      },
      "cell_type": "code",
      "source": [
        "train['SibSp'].describe()"
      ],
      "execution_count": 56,
      "outputs": [
        {
          "output_type": "execute_result",
          "data": {
            "text/plain": [
              "count   891.00\n",
              "mean      0.52\n",
              "std       1.10\n",
              "min       0.00\n",
              "25%       0.00\n",
              "50%       0.00\n",
              "75%       1.00\n",
              "max       8.00\n",
              "Name: SibSp, dtype: float64"
            ]
          },
          "metadata": {
            "tags": []
          },
          "execution_count": 56
        }
      ]
    },
    {
      "metadata": {
        "id": "5HKOuSZIG3WY",
        "colab_type": "code",
        "colab": {
          "base_uri": "https://localhost:8080/",
          "height": 410
        },
        "outputId": "4bc7fa01-08ef-4e43-b0ca-6387cd5e241b"
      },
      "cell_type": "code",
      "source": [
        "train.groupby(['SibSp'])['Survived'].mean().plot()"
      ],
      "execution_count": 58,
      "outputs": [
        {
          "output_type": "execute_result",
          "data": {
            "text/plain": [
              "<matplotlib.axes._subplots.AxesSubplot at 0x7fee37431a90>"
            ]
          },
          "metadata": {
            "tags": []
          },
          "execution_count": 58
        },
        {
          "output_type": "display_data",
          "data": {
            "image/png": "[encoded data removed]",
            "text/plain": [
              "<Figure size 576x396 with 1 Axes>"
            ]
          },
          "metadata": {
            "tags": []
          }
        }
      ]
    },
    {
      "metadata": {
        "id": "j8o7gDa7HDEY",
        "colab_type": "text"
      },
      "cell_type": "markdown",
      "source": [
        "<h2>9. Parch에 따른 생존률</h2>"
      ]
    },
    {
      "metadata": {
        "id": "soLFACV9HCdf",
        "colab_type": "code",
        "colab": {
          "base_uri": "https://localhost:8080/",
          "height": 388
        },
        "outputId": "3ae98319-c7a2-4bfd-a375-7cb0d5133732"
      },
      "cell_type": "code",
      "source": [
        "train['Parch'].hist()"
      ],
      "execution_count": 61,
      "outputs": [
        {
          "output_type": "execute_result",
          "data": {
            "text/plain": [
              "<matplotlib.axes._subplots.AxesSubplot at 0x7fee372ee6d8>"
            ]
          },
          "metadata": {
            "tags": []
          },
          "execution_count": 61
        },
        {
          "output_type": "display_data",
          "data": {
            "image/png": "[encoded data removed]",
            "text/plain": [
              "<Figure size 576x396 with 1 Axes>"
            ]
          },
          "metadata": {
            "tags": []
          }
        }
      ]
    },
    {
      "metadata": {
        "id": "7wiyWOiBHPYV",
        "colab_type": "code",
        "colab": {
          "base_uri": "https://localhost:8080/",
          "height": 410
        },
        "outputId": "edadf98d-dd04-49b2-bf6f-8dbd9cb64b62"
      },
      "cell_type": "code",
      "source": [
        "sns.countplot('Parch',hue='Survived',data=train)"
      ],
      "execution_count": 62,
      "outputs": [
        {
          "output_type": "execute_result",
          "data": {
            "text/plain": [
              "<matplotlib.axes._subplots.AxesSubplot at 0x7fee37271c88>"
            ]
          },
          "metadata": {
            "tags": []
          },
          "execution_count": 62
        },
        {
          "output_type": "display_data",
          "data": {
            "image/png": "[encoded data removed]",
            "text/plain": [
              "<Figure size 576x396 with 1 Axes>"
            ]
          },
          "metadata": {
            "tags": []
          }
        }
      ]
    },
    {
      "metadata": {
        "colab_type": "code",
        "id": "B1qP3Wengr51",
        "colab": {
          "base_uri": "https://localhost:8080/",
          "height": 420
        },
        "outputId": "796b01f2-cac3-4bcd-a9b4-cda9e0c65d36"
      },
      "cell_type": "code",
      "source": [
        "from IPython.display import YouTubeVideo\n",
        "YouTubeVideo('uHqPGh1NoVw', width=600, height=400)"
      ],
      "execution_count": 20,
      "outputs": [
        {
          "output_type": "execute_result",
          "data": {
            "text/html": [
              "\n",
              "        <iframe\n",
              "            width=\"600\"\n",
              "            height=\"400\"\n",
              "            src=\"https://www.youtube.com/embed/uHqPGh1NoVw\"\n",
              "            frameborder=\"0\"\n",
              "            allowfullscreen\n",
              "        ></iframe>\n",
              "        "
            ],
            "text/plain": [
              "<IPython.lib.display.YouTubeVideo at 0x7fee3a1490b8>"
            ],
            "image/jpeg": "[encoded data removed]"
          },
          "metadata": {
            "tags": []
          },
          "execution_count": 20
        }
      ]
    }
  ]
}